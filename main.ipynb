{
 "cells": [
  {
   "cell_type": "code",
   "execution_count": 20,
   "metadata": {
    "tags": []
   },
   "outputs": [
    {
     "output_type": "stream",
     "name": "stdout",
     "text": "Changed Succesfully\n"
    }
   ],
   "source": [
    "import subprocess\n",
    "import os.path\n",
    "\n",
    "def set_gnome_wallpaper(file_path):\n",
    "    if os.path.isfile(file_path):\n",
    "        command = \"gsettings set org.gnome.desktop.background picture-uri {}\".format(file_path)\n",
    "        list_command = list(command.split(' '))\n",
    "        subprocess.run(list_command)\n",
    "        print('Changed Succesfully')\n",
    "    else: \n",
    "        print('Does not exists {}'.format(file_path))\n",
    "\n",
    "set_gnome_wallpaper('/home/benjamin/Documents/projects/unscrap/image.jpg')"
   ]
  },
  {
   "cell_type": "code",
   "execution_count": 1,
   "metadata": {},
   "outputs": [
    {
     "output_type": "execute_result",
     "data": {
      "text/plain": "<Response [200]>"
     },
     "metadata": {},
     "execution_count": 1
    }
   ],
   "source": [
    "import requests\n",
    "import shutil\n",
    "\n",
    "url = 'https://unsplash.com/photos/rBRZLPVLQg0/download?force=true'\n",
    "response = requests.get(url, stream=True)\n",
    "response"
   ]
  },
  {
   "cell_type": "code",
   "execution_count": 2,
   "metadata": {
    "tags": []
   },
   "outputs": [
    {
     "output_type": "stream",
     "name": "stdout",
     "text": "Image successfully download\n"
    }
   ],
   "source": [
    "if response.status_code == 200:\n",
    "    response.raw.decode_content = True\n",
    "\n",
    "    with open('image.jpg', 'wb') as f:\n",
    "        shutil.copyfileobj(response.raw, f)\n",
    "    \n",
    "    print('Image successfully download')"
   ]
  },
  {
   "cell_type": "code",
   "execution_count": 20,
   "metadata": {
    "tags": []
   },
   "outputs": [
    {
     "output_type": "stream",
     "name": "stdout",
     "text": "photo_owner\n14  Biel Morro\n"
    }
   ],
   "source": [
    "import pandas as pd\n",
    "data = pd.read_csv('data.csv')\n",
    "data.dropna(inplace=True)\n",
    "# print(data)\n",
    "# print(data['photo_owner'])\n",
    "print(data.sample())"
   ]
  }
 ],
 "metadata": {
  "language_info": {
   "codemirror_mode": {
    "name": "ipython",
    "version": 3
   },
   "file_extension": ".py",
   "mimetype": "text/x-python",
   "name": "python",
   "nbconvert_exporter": "python",
   "pygments_lexer": "ipython3",
   "version": "3.8.2-final"
  },
  "orig_nbformat": 2,
  "kernelspec": {
   "name": "python38264bitenvvenvd76abb308eb94e5f8b12ac0c8915d544",
   "display_name": "Python 3.8.2 64-bit ('env': venv)"
  }
 },
 "nbformat": 4,
 "nbformat_minor": 2
}